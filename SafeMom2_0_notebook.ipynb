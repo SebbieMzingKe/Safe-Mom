{
  "nbformat": 4,
  "nbformat_minor": 0,
  "metadata": {
    "colab": {
      "provenance": [],
      "gpuType": "T4"
    },
    "kernelspec": {
      "name": "python3",
      "display_name": "Python 3"
    },
    "language_info": {
      "name": "python"
    },
    "accelerator": "GPU"
  },
  "cells": [
    {
      "cell_type": "code",
      "execution_count": null,
      "metadata": {
        "id": "bIX02-DjC2bK"
      },
      "outputs": [],
      "source": [
        "import pandas as pd\n",
        "import numpy as np\n",
        "import seaborn as sns\n",
        "import matplotlib.pyplot as plt\n",
        "from imblearn.over_sampling import SMOTE\n",
        "\n",
        "import tensorflow as tf\n",
        "from imblearn.over_sampling import RandomOverSampler\n",
        "from sklearn.preprocessing import StandardScaler\n",
        "from sklearn.linear_model import LogisticRegression\n",
        "from sklearn.model_selection import train_test_split\n",
        "from sklearn.ensemble import RandomForestClassifier\n",
        "from sklearn.ensemble import GradientBoostingClassifier\n",
        "from xgboost import XGBClassifier\n",
        "from sklearn.metrics import accuracy_score, classification_report, pair_confusion_matrix"
      ]
    },
    {
      "cell_type": "code",
      "source": [
        "from google.colab import drive\n",
        "drive.mount('/content/drive')"
      ],
      "metadata": {
        "id": "Fw6GqzaMDSem"
      },
      "execution_count": null,
      "outputs": []
    },
    {
      "cell_type": "code",
      "source": [
        "df2 = pd.read_csv(\"/content/drive/MyDrive/preeclampsia.csv\")"
      ],
      "metadata": {
        "id": "ShDQ_28vhqou"
      },
      "execution_count": null,
      "outputs": []
    },
    {
      "cell_type": "code",
      "source": [
        "df2.head()"
      ],
      "metadata": {
        "id": "OS0jhAQF2sOq"
      },
      "execution_count": null,
      "outputs": []
    },
    {
      "cell_type": "code",
      "source": [
        "df2.columns"
      ],
      "metadata": {
        "id": "pOdfOzQf9wnK"
      },
      "execution_count": null,
      "outputs": []
    },
    {
      "cell_type": "code",
      "source": [
        "df2.info()"
      ],
      "metadata": {
        "id": "0YTm4B4eGsWW"
      },
      "execution_count": null,
      "outputs": []
    },
    {
      "cell_type": "code",
      "source": [
        "df2.isnull().sum()"
      ],
      "metadata": {
        "id": "St-TMqOOHHFX"
      },
      "execution_count": null,
      "outputs": []
    },
    {
      "cell_type": "code",
      "source": [
        "# Define a basic risk classification based on key preeclampsia risk factors\n",
        "# We will classify patients as high-risk (1) or low-risk (0) based on simplified criteria:\n",
        "# - High diastolic blood pressure (diabp > 90)\n",
        "# - Abnormal PlGF:sFlt ratio (using a threshold, here assuming < 100 as abnormal)\n",
        "# - History of hypertension (htn == 1)\n",
        "# - BMI > 30\n",
        "\n",
        "def classify_risk(row):\n",
        "    risk_score = 0\n",
        "    if row['diabp'] > 90:\n",
        "        risk_score += 2\n",
        "    if row['plgf:sflt'] < 80:\n",
        "        risk_score += 3\n",
        "    if row['htn'] == 1:\n",
        "        risk_score += 2\n",
        "    if row['bmi'] > 30:\n",
        "        risk_score += 1\n",
        "\n",
        "    if risk_score >= 5:\n",
        "        return 1  # High risk\n",
        "    else:\n",
        "        return 0  # Low risk\n",
        "\n",
        "# Apply the classification to the dataset\n",
        "df2['preeclampsia_risk'] = df2.apply(classify_risk, axis=1)\n",
        "\n",
        "# Preview the dataset with the new column\n",
        "df2[['bmi', 'diabp', 'plgf:sflt', 'htn', 'preeclampsia_risk']].head()\n"
      ],
      "metadata": {
        "id": "5FPsENSmHRjf"
      },
      "execution_count": null,
      "outputs": []
    },
    {
      "cell_type": "code",
      "source": [
        "df2.head()"
      ],
      "metadata": {
        "id": "nGlYDn0bHRT0"
      },
      "execution_count": null,
      "outputs": []
    },
    {
      "cell_type": "code",
      "source": [
        "df2['preeclampsia_risk'].value_counts()"
      ],
      "metadata": {
        "id": "00RIWw03HRBB"
      },
      "execution_count": null,
      "outputs": []
    },
    {
      "cell_type": "code",
      "source": [
        "for label in df2.columns[:-1]:\n",
        "  plt.hist(df2[df2[\"preeclampsia_risk\"] == 1][label], color = \"blue\", label = \"preeclampsia\", alpha = 0.7, density = True)\n",
        "  plt.hist(df2[df2[\"preeclampsia_risk\"] == 0][label], color = \"red\", label = \"no preeclampsia\", alpha = 0.7, density = True)\n",
        "  plt.title(label)\n",
        "  plt.ylabel(\"Probability\")\n",
        "  plt.xlabel(label)\n",
        "  plt.legend()\n",
        "  plt.show()"
      ],
      "metadata": {
        "id": "fN3Rq9FsOCgg"
      },
      "execution_count": null,
      "outputs": []
    },
    {
      "cell_type": "code",
      "source": [
        "X = df2.drop('preeclampsia_risk', axis=1)\n",
        "y = df2['preeclampsia_risk']"
      ],
      "metadata": {
        "id": "FSaakHMlPTJ0"
      },
      "execution_count": null,
      "outputs": []
    },
    {
      "cell_type": "code",
      "source": [
        "X.columns"
      ],
      "metadata": {
        "id": "zIv4Zbnl1a7x"
      },
      "execution_count": null,
      "outputs": []
    },
    {
      "cell_type": "code",
      "source": [
        "from sklearn.model_selection import train_test_split\n",
        "\n",
        "X_train, X_test, y_train, y_test = train_test_split(X, y, test_size=0.2, random_state=42)"
      ],
      "metadata": {
        "id": "sxCzVf8tFklG"
      },
      "execution_count": null,
      "outputs": []
    },
    {
      "cell_type": "code",
      "source": [
        "y_train.value_counts()"
      ],
      "metadata": {
        "id": "KGJ9GT2rPyny"
      },
      "execution_count": null,
      "outputs": []
    },
    {
      "cell_type": "code",
      "source": [
        "smote = SMOTE(sampling_strategy='auto')\n",
        "\n",
        "X_train, y_train = smote.fit_resample(X_train, y_train)\n"
      ],
      "metadata": {
        "id": "UMGgljknbdG0"
      },
      "execution_count": null,
      "outputs": []
    },
    {
      "cell_type": "code",
      "source": [
        "y_train.value_counts()"
      ],
      "metadata": {
        "id": "SyCC3kMAP_UU"
      },
      "execution_count": null,
      "outputs": []
    },
    {
      "cell_type": "code",
      "source": [
        "scaler = StandardScaler()\n",
        "X_train = scaler.fit_transform(X_train)\n",
        "X_test = scaler.transform(X_test)"
      ],
      "metadata": {
        "id": "VEQlUdFpK5Yi"
      },
      "execution_count": null,
      "outputs": []
    },
    {
      "cell_type": "code",
      "source": [
        "X_train"
      ],
      "metadata": {
        "id": "J8qDFXEm0zGi"
      },
      "execution_count": null,
      "outputs": []
    },
    {
      "cell_type": "code",
      "source": [
        "# model instance\n",
        "bst = XGBClassifier(n_estimators=2, max_depth=2, learning_rate=1, objective='binary:logistic', enable_categorical = True)\n",
        "# fit model\n",
        "bst.fit(X_train, y_train)\n",
        "# make predictions\n",
        "preds = bst.predict(X_test)\n",
        "print(preds)"
      ],
      "metadata": {
        "id": "zkeCy4xaG7cm",
        "colab": {
          "base_uri": "https://localhost:8080/"
        },
        "outputId": "a1a01825-72be-4908-8ecf-2aa734b20891"
      },
      "execution_count": 35,
      "outputs": [
        {
          "output_type": "stream",
          "name": "stdout",
          "text": [
            "[0 1 0 0 1 0 1 0 0 0 0 0 0 0 0 1 1 1 0 0 0 1 1 0 0 0 1 0 1 0 0 1 0 0 0 1 0\n",
            " 1 0 0 0 0 0 0 0 0 0 0 1 0 1 0 0 1 1 0 0 0 0 1 0 0 0 0 0 1 1 0 0 0 0 0 0 0\n",
            " 1 1 1 0 1 0]\n"
          ]
        }
      ]
    },
    {
      "cell_type": "code",
      "source": [
        "# classification report\n",
        "from sklearn.metrics import classification_report\n",
        "\n",
        "\n",
        "print(classification_report(y_test, preds))"
      ],
      "metadata": {
        "id": "Oh_rwzw_5fhf",
        "colab": {
          "base_uri": "https://localhost:8080/"
        },
        "outputId": "9c258908-4904-4bef-b75a-5b449f13d553"
      },
      "execution_count": 36,
      "outputs": [
        {
          "output_type": "stream",
          "name": "stdout",
          "text": [
            "              precision    recall  f1-score   support\n",
            "\n",
            "           0       0.98      0.96      0.97        57\n",
            "           1       0.92      0.96      0.94        23\n",
            "\n",
            "    accuracy                           0.96        80\n",
            "   macro avg       0.95      0.96      0.95        80\n",
            "weighted avg       0.96      0.96      0.96        80\n",
            "\n"
          ]
        }
      ]
    },
    {
      "cell_type": "code",
      "source": [
        "from sklearn.metrics import accuracy_score\n",
        "\n",
        "# Computing the accuracy on the test data\n",
        "accuracy = accuracy_score(y_test, preds)\n",
        "print(f\"Accuracy: {accuracy:.2f}\")\n"
      ],
      "metadata": {
        "id": "aIg-MNN63cYS"
      },
      "execution_count": null,
      "outputs": []
    },
    {
      "cell_type": "code",
      "source": [
        "from sklearn import metrics\n",
        "print(\" the accuracy of the XGBOOST is: \", metrics.accuracy_score(preds,y_test))"
      ],
      "metadata": {
        "id": "WgS1rtFRKPoZ"
      },
      "execution_count": null,
      "outputs": []
    },
    {
      "cell_type": "code",
      "source": [
        "r_clf=RandomForestClassifier()\n",
        "r_clf.fit(X_train,y_train)"
      ],
      "metadata": {
        "id": "8nuuImg1IIuR"
      },
      "execution_count": null,
      "outputs": []
    },
    {
      "cell_type": "code",
      "source": [
        "y_pred=r_clf.predict(X_test)"
      ],
      "metadata": {
        "id": "CKx4ONgNITA0"
      },
      "execution_count": null,
      "outputs": []
    },
    {
      "cell_type": "code",
      "source": [
        "from sklearn import metrics\n",
        "print(\" the accuracy of the random tree clasifier is: \", metrics.accuracy_score(y_pred,y_test))"
      ],
      "metadata": {
        "id": "b8aOc7zKJiIu"
      },
      "execution_count": null,
      "outputs": []
    },
    {
      "cell_type": "code",
      "source": [
        "from sklearn.ensemble import VotingClassifier\n",
        "\n",
        "# Create a voting classifier with the base models\n",
        "voting_clf = VotingClassifier(estimators=[('rf', bst), ('gb', r_clf)], voting='hard')\n",
        "\n",
        "# Train the ensemble model\n",
        "voting_clf.fit(X_train, y_train)\n",
        "\n",
        "# Make predictions\n",
        "y_preds = voting_clf.predict(X_test)\n",
        "\n",
        "print(\" the accuracy of the random tree clasifier is: \", metrics.accuracy_score(y_preds,y_test))"
      ],
      "metadata": {
        "id": "Q7k3p2MhJxII"
      },
      "execution_count": null,
      "outputs": []
    },
    {
      "cell_type": "code",
      "source": [
        "import joblib\n",
        "joblib.dump(voting_clf, \"safe_mom_model_1.pkl\")"
      ],
      "metadata": {
        "id": "CnEoSL9hMmZm"
      },
      "execution_count": null,
      "outputs": []
    },
    {
      "cell_type": "code",
      "source": [],
      "metadata": {
        "id": "-lq8G-xD4kRX"
      },
      "execution_count": null,
      "outputs": []
    }
  ]
}